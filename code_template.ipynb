{
 "cells": [
  {
   "cell_type": "code",
   "execution_count": 1,
   "id": "b47460bc-3db8-4a7f-856a-5aa5e08ccf4e",
   "metadata": {
    "ExecuteTime": {
     "end_time": "2024-11-05T14:30:31.345700Z",
     "start_time": "2024-11-05T14:30:28.063617Z"
    }
   },
   "outputs": [
    {
     "name": "stdout",
     "output_type": "stream",
     "text": [
      "Requirement already satisfied: duckdb in ./.venv/lib/python3.11/site-packages (1.1.3)\r\n",
      "\r\n",
      "\u001B[1m[\u001B[0m\u001B[34;49mnotice\u001B[0m\u001B[1;39;49m]\u001B[0m\u001B[39;49m A new release of pip available: \u001B[0m\u001B[31;49m22.3.1\u001B[0m\u001B[39;49m -> \u001B[0m\u001B[32;49m24.3.1\u001B[0m\r\n",
      "\u001B[1m[\u001B[0m\u001B[34;49mnotice\u001B[0m\u001B[1;39;49m]\u001B[0m\u001B[39;49m To update, run: \u001B[0m\u001B[32;49mpip install --upgrade pip\u001B[0m\r\n",
      "Requirement already satisfied: pandas in ./.venv/lib/python3.11/site-packages (2.2.3)\r\n",
      "Requirement already satisfied: numpy>=1.23.2 in ./.venv/lib/python3.11/site-packages (from pandas) (2.1.3)\r\n",
      "Requirement already satisfied: python-dateutil>=2.8.2 in ./.venv/lib/python3.11/site-packages (from pandas) (2.9.0.post0)\r\n",
      "Requirement already satisfied: pytz>=2020.1 in ./.venv/lib/python3.11/site-packages (from pandas) (2024.2)\r\n",
      "Requirement already satisfied: tzdata>=2022.7 in ./.venv/lib/python3.11/site-packages (from pandas) (2024.2)\r\n",
      "Requirement already satisfied: six>=1.5 in ./.venv/lib/python3.11/site-packages (from python-dateutil>=2.8.2->pandas) (1.16.0)\r\n",
      "\r\n",
      "\u001B[1m[\u001B[0m\u001B[34;49mnotice\u001B[0m\u001B[1;39;49m]\u001B[0m\u001B[39;49m A new release of pip available: \u001B[0m\u001B[31;49m22.3.1\u001B[0m\u001B[39;49m -> \u001B[0m\u001B[32;49m24.3.1\u001B[0m\r\n",
      "\u001B[1m[\u001B[0m\u001B[34;49mnotice\u001B[0m\u001B[1;39;49m]\u001B[0m\u001B[39;49m To update, run: \u001B[0m\u001B[32;49mpip install --upgrade pip\u001B[0m\r\n",
      "Requirement already satisfied: pyarrow in ./.venv/lib/python3.11/site-packages (18.0.0)\r\n",
      "\r\n",
      "\u001B[1m[\u001B[0m\u001B[34;49mnotice\u001B[0m\u001B[1;39;49m]\u001B[0m\u001B[39;49m A new release of pip available: \u001B[0m\u001B[31;49m22.3.1\u001B[0m\u001B[39;49m -> \u001B[0m\u001B[32;49m24.3.1\u001B[0m\r\n",
      "\u001B[1m[\u001B[0m\u001B[34;49mnotice\u001B[0m\u001B[1;39;49m]\u001B[0m\u001B[39;49m To update, run: \u001B[0m\u001B[32;49mpip install --upgrade pip\u001B[0m\r\n",
      "Requirement already satisfied: fastparquet in ./.venv/lib/python3.11/site-packages (2024.5.0)\r\n",
      "Requirement already satisfied: pandas>=1.5.0 in ./.venv/lib/python3.11/site-packages (from fastparquet) (2.2.3)\r\n",
      "Requirement already satisfied: numpy in ./.venv/lib/python3.11/site-packages (from fastparquet) (2.1.3)\r\n",
      "Requirement already satisfied: cramjam>=2.3 in ./.venv/lib/python3.11/site-packages (from fastparquet) (2.9.0)\r\n",
      "Requirement already satisfied: fsspec in ./.venv/lib/python3.11/site-packages (from fastparquet) (2024.10.0)\r\n",
      "Requirement already satisfied: packaging in ./.venv/lib/python3.11/site-packages (from fastparquet) (24.1)\r\n",
      "Requirement already satisfied: python-dateutil>=2.8.2 in ./.venv/lib/python3.11/site-packages (from pandas>=1.5.0->fastparquet) (2.9.0.post0)\r\n",
      "Requirement already satisfied: pytz>=2020.1 in ./.venv/lib/python3.11/site-packages (from pandas>=1.5.0->fastparquet) (2024.2)\r\n",
      "Requirement already satisfied: tzdata>=2022.7 in ./.venv/lib/python3.11/site-packages (from pandas>=1.5.0->fastparquet) (2024.2)\r\n",
      "Requirement already satisfied: six>=1.5 in ./.venv/lib/python3.11/site-packages (from python-dateutil>=2.8.2->pandas>=1.5.0->fastparquet) (1.16.0)\r\n",
      "\r\n",
      "\u001B[1m[\u001B[0m\u001B[34;49mnotice\u001B[0m\u001B[1;39;49m]\u001B[0m\u001B[39;49m A new release of pip available: \u001B[0m\u001B[31;49m22.3.1\u001B[0m\u001B[39;49m -> \u001B[0m\u001B[32;49m24.3.1\u001B[0m\r\n",
      "\u001B[1m[\u001B[0m\u001B[34;49mnotice\u001B[0m\u001B[1;39;49m]\u001B[0m\u001B[39;49m To update, run: \u001B[0m\u001B[32;49mpip install --upgrade pip\u001B[0m\r\n"
     ]
    }
   ],
   "source": [
    "!pip install duckdb\n",
    "!pip install pandas\n",
    "!pip install pyarrow\n",
    "!pip install fastparquet"
   ]
  },
  {
   "cell_type": "code",
   "execution_count": 2,
   "id": "49af82a0-73c1-4728-9c13-63a4f7059752",
   "metadata": {
    "ExecuteTime": {
     "end_time": "2024-11-05T14:30:31.639772Z",
     "start_time": "2024-11-05T14:30:31.346715Z"
    }
   },
   "outputs": [],
   "source": [
    "import duckdb\n",
    "import pandas as pd"
   ]
  },
  {
   "cell_type": "code",
   "execution_count": 3,
   "id": "e0c752d7-110b-4834-9809-3dda2d24f6c9",
   "metadata": {
    "ExecuteTime": {
     "end_time": "2024-11-05T14:30:31.642524Z",
     "start_time": "2024-11-05T14:30:31.638475Z"
    }
   },
   "outputs": [],
   "source": [
    "con = duckdb.connect()"
   ]
  },
  {
   "cell_type": "code",
   "execution_count": 16,
   "id": "dd48e9bf-6fed-4fd9-a5aa-a0665b319ece",
   "metadata": {
    "ExecuteTime": {
     "end_time": "2024-11-05T14:47:51.336390Z",
     "start_time": "2024-11-05T14:47:51.335050Z"
    }
   },
   "outputs": [],
   "source": [
    "query = \"\"\"\n",
    "SELECT accountid, gender,age\n",
    "FROM 'accounts.parquet'\n",
    "\"\"\""
   ]
  },
  {
   "cell_type": "code",
   "execution_count": 17,
   "id": "cafaadd6-d783-4590-ad9b-f193bab7151f",
   "metadata": {
    "ExecuteTime": {
     "end_time": "2024-11-05T14:47:55.075346Z",
     "start_time": "2024-11-05T14:47:54.928233Z"
    }
   },
   "outputs": [
    {
     "data": {
      "text/plain": "                                   accountid gender  age                name  \\\n0       cf1379f3-f8a3-4ea4-a134-636f8cd0e258      M   46        Craig Clarke   \n1       b25394ff-b7f7-43b3-b599-5a1610b8ac52      V   46     Robert Robinson   \n2       81747dfa-08ed-4e17-a1c8-e8d55916aa09      V   53      Hannah Michael   \n3       a61928cb-7f86-400b-99cc-b26f6b9ba92a      M   32         Sherri Wade   \n4       2b081b50-ec32-40bc-b2c4-974c778bbcbb      M   60      Melissa Potter   \n...                                      ...    ...  ...                 ...   \n190993  e5fd513a-7ef3-4a70-a13f-f507a06986a6      V   61  Christine Martinez   \n190994  c01a567d-0e0b-4089-93ed-860c0e83aa0e      V   42   Christopher Frank   \n190995  1ec67160-3500-4f2b-bba5-4deda6cba084      X   54        Sara Johnson   \n190996  ee3c5b48-759f-455f-b7be-9fcac61ff4af      M   57  Michael Montgomery   \n190997  531a9ff7-f4f8-4511-b159-4f15fafea4fe      X   50        Thomas Evans   \n\n       phonenumber  __index_level_0__  \n0       0644306024                  0  \n1       0697486926                  1  \n2       0647066682                  2  \n3       0676003045                  3  \n4       0632887459                  4  \n...            ...                ...  \n190993  0893941444              93083  \n190994  0882800779              93084  \n190995  0850648632              93085  \n190996  0864257871              93086  \n190997  0866872508              93087  \n\n[190998 rows x 6 columns]",
      "text/html": "<div>\n<style scoped>\n    .dataframe tbody tr th:only-of-type {\n        vertical-align: middle;\n    }\n\n    .dataframe tbody tr th {\n        vertical-align: top;\n    }\n\n    .dataframe thead th {\n        text-align: right;\n    }\n</style>\n<table border=\"1\" class=\"dataframe\">\n  <thead>\n    <tr style=\"text-align: right;\">\n      <th></th>\n      <th>accountid</th>\n      <th>gender</th>\n      <th>age</th>\n      <th>name</th>\n      <th>phonenumber</th>\n      <th>__index_level_0__</th>\n    </tr>\n  </thead>\n  <tbody>\n    <tr>\n      <th>0</th>\n      <td>cf1379f3-f8a3-4ea4-a134-636f8cd0e258</td>\n      <td>M</td>\n      <td>46</td>\n      <td>Craig Clarke</td>\n      <td>0644306024</td>\n      <td>0</td>\n    </tr>\n    <tr>\n      <th>1</th>\n      <td>b25394ff-b7f7-43b3-b599-5a1610b8ac52</td>\n      <td>V</td>\n      <td>46</td>\n      <td>Robert Robinson</td>\n      <td>0697486926</td>\n      <td>1</td>\n    </tr>\n    <tr>\n      <th>2</th>\n      <td>81747dfa-08ed-4e17-a1c8-e8d55916aa09</td>\n      <td>V</td>\n      <td>53</td>\n      <td>Hannah Michael</td>\n      <td>0647066682</td>\n      <td>2</td>\n    </tr>\n    <tr>\n      <th>3</th>\n      <td>a61928cb-7f86-400b-99cc-b26f6b9ba92a</td>\n      <td>M</td>\n      <td>32</td>\n      <td>Sherri Wade</td>\n      <td>0676003045</td>\n      <td>3</td>\n    </tr>\n    <tr>\n      <th>4</th>\n      <td>2b081b50-ec32-40bc-b2c4-974c778bbcbb</td>\n      <td>M</td>\n      <td>60</td>\n      <td>Melissa Potter</td>\n      <td>0632887459</td>\n      <td>4</td>\n    </tr>\n    <tr>\n      <th>...</th>\n      <td>...</td>\n      <td>...</td>\n      <td>...</td>\n      <td>...</td>\n      <td>...</td>\n      <td>...</td>\n    </tr>\n    <tr>\n      <th>190993</th>\n      <td>e5fd513a-7ef3-4a70-a13f-f507a06986a6</td>\n      <td>V</td>\n      <td>61</td>\n      <td>Christine Martinez</td>\n      <td>0893941444</td>\n      <td>93083</td>\n    </tr>\n    <tr>\n      <th>190994</th>\n      <td>c01a567d-0e0b-4089-93ed-860c0e83aa0e</td>\n      <td>V</td>\n      <td>42</td>\n      <td>Christopher Frank</td>\n      <td>0882800779</td>\n      <td>93084</td>\n    </tr>\n    <tr>\n      <th>190995</th>\n      <td>1ec67160-3500-4f2b-bba5-4deda6cba084</td>\n      <td>X</td>\n      <td>54</td>\n      <td>Sara Johnson</td>\n      <td>0850648632</td>\n      <td>93085</td>\n    </tr>\n    <tr>\n      <th>190996</th>\n      <td>ee3c5b48-759f-455f-b7be-9fcac61ff4af</td>\n      <td>M</td>\n      <td>57</td>\n      <td>Michael Montgomery</td>\n      <td>0864257871</td>\n      <td>93086</td>\n    </tr>\n    <tr>\n      <th>190997</th>\n      <td>531a9ff7-f4f8-4511-b159-4f15fafea4fe</td>\n      <td>X</td>\n      <td>50</td>\n      <td>Thomas Evans</td>\n      <td>0866872508</td>\n      <td>93087</td>\n    </tr>\n  </tbody>\n</table>\n<p>190998 rows × 6 columns</p>\n</div>"
     },
     "execution_count": 17,
     "metadata": {},
     "output_type": "execute_result"
    }
   ],
   "source": [
    "accounts = con.execute(query).df()"
   ]
  },
  {
   "cell_type": "code",
   "execution_count": 6,
   "outputs": [],
   "source": [
    "pageviews = pd.read_parquet('pageviews.parquet')[['brandcode', 'servertimestamp', 'articleid', 'accountid']]"
   ],
   "metadata": {
    "collapsed": false,
    "ExecuteTime": {
     "end_time": "2024-11-05T14:30:32.062664Z",
     "start_time": "2024-11-05T14:30:31.682022Z"
    }
   }
  },
  {
   "cell_type": "markdown",
   "source": [
    "## Global pre-processing"
   ],
   "metadata": {
    "collapsed": false
   }
  },
  {
   "cell_type": "code",
   "execution_count": 7,
   "outputs": [
    {
     "data": {
      "text/plain": "    brandcode  servertimestamp    articleid  \\\n0         nhd     1.727226e+12     20681891   \n1         nhd     1.727223e+12     20681891   \n2         nhd     1.727225e+12     20681891   \n3         nhd     1.727225e+12     20799840   \n4         nhd     1.727225e+12     20681891   \n..        ...              ...          ...   \n390        sw     1.727309e+12  a1502952156   \n391        sw     1.727309e+12  a1066573877   \n392        sw     1.727309e+12   a269051120   \n393        sw     1.727309e+12  a1265681930   \n394        sw     1.727309e+12  a1831896309   \n\n                                accountid timestamp_date_hour  \n0    aca514f0-f777-4da5-a73a-1b768b0dd8af       2024-09-25 00  \n1    d0e04f66-28db-4c23-8e72-3f577990fc64       2024-09-25 00  \n2    3eddef8d-b8d4-4c5e-8ac5-54f179dceae8       2024-09-25 00  \n3    7ea7b798-cc7b-4a9e-9322-4b6c8e74dd09       2024-09-25 00  \n4    3f0a7785-d652-4053-bdee-83b4114114f7       2024-09-25 00  \n..                                    ...                 ...  \n390  f797e903-ee4d-4c0f-ab76-a8dc4128b4b1       2024-09-26 00  \n391  9c36c65e-e34a-4d84-8399-7181c1f5b14a       2024-09-25 23  \n392  8f80078c-a4a4-4a35-998a-61871ea2f39b       2024-09-26 00  \n393  6a2168a3-ec24-4b77-8d6b-ba9c3a54beda       2024-09-25 23  \n394  309eec2d-4457-411a-8286-accd2938612c       2024-09-25 23  \n\n[562705 rows x 5 columns]",
      "text/html": "<div>\n<style scoped>\n    .dataframe tbody tr th:only-of-type {\n        vertical-align: middle;\n    }\n\n    .dataframe tbody tr th {\n        vertical-align: top;\n    }\n\n    .dataframe thead th {\n        text-align: right;\n    }\n</style>\n<table border=\"1\" class=\"dataframe\">\n  <thead>\n    <tr style=\"text-align: right;\">\n      <th></th>\n      <th>brandcode</th>\n      <th>servertimestamp</th>\n      <th>articleid</th>\n      <th>accountid</th>\n      <th>timestamp_date_hour</th>\n    </tr>\n  </thead>\n  <tbody>\n    <tr>\n      <th>0</th>\n      <td>nhd</td>\n      <td>1.727226e+12</td>\n      <td>20681891</td>\n      <td>aca514f0-f777-4da5-a73a-1b768b0dd8af</td>\n      <td>2024-09-25 00</td>\n    </tr>\n    <tr>\n      <th>1</th>\n      <td>nhd</td>\n      <td>1.727223e+12</td>\n      <td>20681891</td>\n      <td>d0e04f66-28db-4c23-8e72-3f577990fc64</td>\n      <td>2024-09-25 00</td>\n    </tr>\n    <tr>\n      <th>2</th>\n      <td>nhd</td>\n      <td>1.727225e+12</td>\n      <td>20681891</td>\n      <td>3eddef8d-b8d4-4c5e-8ac5-54f179dceae8</td>\n      <td>2024-09-25 00</td>\n    </tr>\n    <tr>\n      <th>3</th>\n      <td>nhd</td>\n      <td>1.727225e+12</td>\n      <td>20799840</td>\n      <td>7ea7b798-cc7b-4a9e-9322-4b6c8e74dd09</td>\n      <td>2024-09-25 00</td>\n    </tr>\n    <tr>\n      <th>4</th>\n      <td>nhd</td>\n      <td>1.727225e+12</td>\n      <td>20681891</td>\n      <td>3f0a7785-d652-4053-bdee-83b4114114f7</td>\n      <td>2024-09-25 00</td>\n    </tr>\n    <tr>\n      <th>...</th>\n      <td>...</td>\n      <td>...</td>\n      <td>...</td>\n      <td>...</td>\n      <td>...</td>\n    </tr>\n    <tr>\n      <th>390</th>\n      <td>sw</td>\n      <td>1.727309e+12</td>\n      <td>a1502952156</td>\n      <td>f797e903-ee4d-4c0f-ab76-a8dc4128b4b1</td>\n      <td>2024-09-26 00</td>\n    </tr>\n    <tr>\n      <th>391</th>\n      <td>sw</td>\n      <td>1.727309e+12</td>\n      <td>a1066573877</td>\n      <td>9c36c65e-e34a-4d84-8399-7181c1f5b14a</td>\n      <td>2024-09-25 23</td>\n    </tr>\n    <tr>\n      <th>392</th>\n      <td>sw</td>\n      <td>1.727309e+12</td>\n      <td>a269051120</td>\n      <td>8f80078c-a4a4-4a35-998a-61871ea2f39b</td>\n      <td>2024-09-26 00</td>\n    </tr>\n    <tr>\n      <th>393</th>\n      <td>sw</td>\n      <td>1.727309e+12</td>\n      <td>a1265681930</td>\n      <td>6a2168a3-ec24-4b77-8d6b-ba9c3a54beda</td>\n      <td>2024-09-25 23</td>\n    </tr>\n    <tr>\n      <th>394</th>\n      <td>sw</td>\n      <td>1.727309e+12</td>\n      <td>a1831896309</td>\n      <td>309eec2d-4457-411a-8286-accd2938612c</td>\n      <td>2024-09-25 23</td>\n    </tr>\n  </tbody>\n</table>\n<p>562705 rows × 5 columns</p>\n</div>"
     },
     "execution_count": 7,
     "metadata": {},
     "output_type": "execute_result"
    }
   ],
   "source": [
    "pageviews['timestamp_date_hour'] = pd.to_datetime(pageviews['servertimestamp'], unit='ms').dt.strftime('%Y-%m-%d %H')\n",
    "pageviews"
   ],
   "metadata": {
    "collapsed": false,
    "ExecuteTime": {
     "end_time": "2024-11-05T14:30:33.244638Z",
     "start_time": "2024-11-05T14:30:32.171166Z"
    }
   }
  },
  {
   "cell_type": "code",
   "execution_count": 8,
   "outputs": [
    {
     "data": {
      "text/plain": "       brandcode  servertimestamp    articleid  \\\n0            nhd     1.727226e+12     20681891   \n1            nhd     1.727223e+12     20681891   \n2            nhd     1.727225e+12     20681891   \n3            nhd     1.727226e+12     20828704   \n4            nhd     1.727225e+12     20749431   \n...          ...              ...          ...   \n337482        sw     1.727307e+12  a1771291222   \n337483        sw     1.727307e+12   a598475578   \n337484        sw     1.727309e+12  a1502952156   \n337485        sw     1.727309e+12  a1066573877   \n337486        sw     1.727309e+12  a1831896309   \n\n                                   accountid timestamp_date_hour gender  age  \n0       aca514f0-f777-4da5-a73a-1b768b0dd8af       2024-09-25 00      V   53  \n1       d0e04f66-28db-4c23-8e72-3f577990fc64       2024-09-25 00      V   40  \n2       3eddef8d-b8d4-4c5e-8ac5-54f179dceae8       2024-09-25 00      V   52  \n3       12b4bef6-e680-4456-92ea-490ec8a70b18       2024-09-25 01      V   48  \n4       944d29af-8227-4d51-b0e5-49c76a94075f       2024-09-25 00      X   36  \n...                                      ...                 ...    ...  ...  \n337482  ce840ea9-4600-40b0-8579-d03c6bee79b7       2024-09-25 23      M   56  \n337483  2e90385a-1ce9-48e0-a823-d8991c472500       2024-09-25 23      M   55  \n337484  f797e903-ee4d-4c0f-ab76-a8dc4128b4b1       2024-09-26 00      M   57  \n337485  9c36c65e-e34a-4d84-8399-7181c1f5b14a       2024-09-25 23      X   51  \n337486  309eec2d-4457-411a-8286-accd2938612c       2024-09-25 23      M   57  \n\n[337487 rows x 7 columns]",
      "text/html": "<div>\n<style scoped>\n    .dataframe tbody tr th:only-of-type {\n        vertical-align: middle;\n    }\n\n    .dataframe tbody tr th {\n        vertical-align: top;\n    }\n\n    .dataframe thead th {\n        text-align: right;\n    }\n</style>\n<table border=\"1\" class=\"dataframe\">\n  <thead>\n    <tr style=\"text-align: right;\">\n      <th></th>\n      <th>brandcode</th>\n      <th>servertimestamp</th>\n      <th>articleid</th>\n      <th>accountid</th>\n      <th>timestamp_date_hour</th>\n      <th>gender</th>\n      <th>age</th>\n    </tr>\n  </thead>\n  <tbody>\n    <tr>\n      <th>0</th>\n      <td>nhd</td>\n      <td>1.727226e+12</td>\n      <td>20681891</td>\n      <td>aca514f0-f777-4da5-a73a-1b768b0dd8af</td>\n      <td>2024-09-25 00</td>\n      <td>V</td>\n      <td>53</td>\n    </tr>\n    <tr>\n      <th>1</th>\n      <td>nhd</td>\n      <td>1.727223e+12</td>\n      <td>20681891</td>\n      <td>d0e04f66-28db-4c23-8e72-3f577990fc64</td>\n      <td>2024-09-25 00</td>\n      <td>V</td>\n      <td>40</td>\n    </tr>\n    <tr>\n      <th>2</th>\n      <td>nhd</td>\n      <td>1.727225e+12</td>\n      <td>20681891</td>\n      <td>3eddef8d-b8d4-4c5e-8ac5-54f179dceae8</td>\n      <td>2024-09-25 00</td>\n      <td>V</td>\n      <td>52</td>\n    </tr>\n    <tr>\n      <th>3</th>\n      <td>nhd</td>\n      <td>1.727226e+12</td>\n      <td>20828704</td>\n      <td>12b4bef6-e680-4456-92ea-490ec8a70b18</td>\n      <td>2024-09-25 01</td>\n      <td>V</td>\n      <td>48</td>\n    </tr>\n    <tr>\n      <th>4</th>\n      <td>nhd</td>\n      <td>1.727225e+12</td>\n      <td>20749431</td>\n      <td>944d29af-8227-4d51-b0e5-49c76a94075f</td>\n      <td>2024-09-25 00</td>\n      <td>X</td>\n      <td>36</td>\n    </tr>\n    <tr>\n      <th>...</th>\n      <td>...</td>\n      <td>...</td>\n      <td>...</td>\n      <td>...</td>\n      <td>...</td>\n      <td>...</td>\n      <td>...</td>\n    </tr>\n    <tr>\n      <th>337482</th>\n      <td>sw</td>\n      <td>1.727307e+12</td>\n      <td>a1771291222</td>\n      <td>ce840ea9-4600-40b0-8579-d03c6bee79b7</td>\n      <td>2024-09-25 23</td>\n      <td>M</td>\n      <td>56</td>\n    </tr>\n    <tr>\n      <th>337483</th>\n      <td>sw</td>\n      <td>1.727307e+12</td>\n      <td>a598475578</td>\n      <td>2e90385a-1ce9-48e0-a823-d8991c472500</td>\n      <td>2024-09-25 23</td>\n      <td>M</td>\n      <td>55</td>\n    </tr>\n    <tr>\n      <th>337484</th>\n      <td>sw</td>\n      <td>1.727309e+12</td>\n      <td>a1502952156</td>\n      <td>f797e903-ee4d-4c0f-ab76-a8dc4128b4b1</td>\n      <td>2024-09-26 00</td>\n      <td>M</td>\n      <td>57</td>\n    </tr>\n    <tr>\n      <th>337485</th>\n      <td>sw</td>\n      <td>1.727309e+12</td>\n      <td>a1066573877</td>\n      <td>9c36c65e-e34a-4d84-8399-7181c1f5b14a</td>\n      <td>2024-09-25 23</td>\n      <td>X</td>\n      <td>51</td>\n    </tr>\n    <tr>\n      <th>337486</th>\n      <td>sw</td>\n      <td>1.727309e+12</td>\n      <td>a1831896309</td>\n      <td>309eec2d-4457-411a-8286-accd2938612c</td>\n      <td>2024-09-25 23</td>\n      <td>M</td>\n      <td>57</td>\n    </tr>\n  </tbody>\n</table>\n<p>337487 rows × 7 columns</p>\n</div>"
     },
     "execution_count": 8,
     "metadata": {},
     "output_type": "execute_result"
    }
   ],
   "source": [
    "accounts_pageviews = pageviews.merge(accounts,on='accountid', how='inner')\n",
    "accounts_pageviews"
   ],
   "metadata": {
    "collapsed": false,
    "ExecuteTime": {
     "end_time": "2024-11-05T14:30:33.483928Z",
     "start_time": "2024-11-05T14:30:33.248916Z"
    }
   }
  },
  {
   "cell_type": "code",
   "execution_count": 9,
   "outputs": [],
   "source": [
    "pageviews_males = accounts_pageviews[accounts_pageviews['gender'] == 'M']\n",
    "pageviews_females = accounts_pageviews[accounts_pageviews['gender'] == 'V']\n",
    "pageviews_younger_than_50 = accounts_pageviews[accounts_pageviews['age'] < 50]\n",
    "pageviews_older_than_50 = accounts_pageviews[accounts_pageviews['age'] >= 50]"
   ],
   "metadata": {
    "collapsed": false,
    "ExecuteTime": {
     "end_time": "2024-11-05T14:30:33.573094Z",
     "start_time": "2024-11-05T14:30:33.496158Z"
    }
   }
  },
  {
   "cell_type": "code",
   "execution_count": 10,
   "outputs": [
    {
     "data": {
      "text/plain": "    brandcode  servertimestamp articleid  \\\n0         nhd     1.727226e+12  20681891   \n1         nhd     1.727223e+12  20681891   \n2         nhd     1.727225e+12  20681891   \n3         nhd     1.727225e+12  20799840   \n4         nhd     1.727225e+12  20681891   \n..        ...              ...       ...   \n948       nhd     1.727308e+12  20842007   \n949       nhd     1.727308e+12  20842767   \n950       nhd     1.727308e+12  20854784   \n951       nhd     1.727306e+12  20955919   \n952       nhd     1.727308e+12  20745049   \n\n                                accountid timestamp_date_hour  \n0    aca514f0-f777-4da5-a73a-1b768b0dd8af       2024-09-25 00  \n1    d0e04f66-28db-4c23-8e72-3f577990fc64       2024-09-25 00  \n2    3eddef8d-b8d4-4c5e-8ac5-54f179dceae8       2024-09-25 00  \n3    7ea7b798-cc7b-4a9e-9322-4b6c8e74dd09       2024-09-25 00  \n4    3f0a7785-d652-4053-bdee-83b4114114f7       2024-09-25 00  \n..                                    ...                 ...  \n948  f8d2e6d0-4c5f-4ac9-898c-c6d0f3866492       2024-09-25 23  \n949  cce7367e-273f-449e-88d0-854b48dd5cb0       2024-09-25 23  \n950  2d7f48e4-5fd4-474c-9335-62dca418ad9f       2024-09-25 23  \n951  341059c7-d6cd-448f-8d47-05667d13bb88       2024-09-25 23  \n952  0ec75eee-67aa-41c2-b8bc-6372ac42a232       2024-09-25 23  \n\n[289042 rows x 5 columns]",
      "text/html": "<div>\n<style scoped>\n    .dataframe tbody tr th:only-of-type {\n        vertical-align: middle;\n    }\n\n    .dataframe tbody tr th {\n        vertical-align: top;\n    }\n\n    .dataframe thead th {\n        text-align: right;\n    }\n</style>\n<table border=\"1\" class=\"dataframe\">\n  <thead>\n    <tr style=\"text-align: right;\">\n      <th></th>\n      <th>brandcode</th>\n      <th>servertimestamp</th>\n      <th>articleid</th>\n      <th>accountid</th>\n      <th>timestamp_date_hour</th>\n    </tr>\n  </thead>\n  <tbody>\n    <tr>\n      <th>0</th>\n      <td>nhd</td>\n      <td>1.727226e+12</td>\n      <td>20681891</td>\n      <td>aca514f0-f777-4da5-a73a-1b768b0dd8af</td>\n      <td>2024-09-25 00</td>\n    </tr>\n    <tr>\n      <th>1</th>\n      <td>nhd</td>\n      <td>1.727223e+12</td>\n      <td>20681891</td>\n      <td>d0e04f66-28db-4c23-8e72-3f577990fc64</td>\n      <td>2024-09-25 00</td>\n    </tr>\n    <tr>\n      <th>2</th>\n      <td>nhd</td>\n      <td>1.727225e+12</td>\n      <td>20681891</td>\n      <td>3eddef8d-b8d4-4c5e-8ac5-54f179dceae8</td>\n      <td>2024-09-25 00</td>\n    </tr>\n    <tr>\n      <th>3</th>\n      <td>nhd</td>\n      <td>1.727225e+12</td>\n      <td>20799840</td>\n      <td>7ea7b798-cc7b-4a9e-9322-4b6c8e74dd09</td>\n      <td>2024-09-25 00</td>\n    </tr>\n    <tr>\n      <th>4</th>\n      <td>nhd</td>\n      <td>1.727225e+12</td>\n      <td>20681891</td>\n      <td>3f0a7785-d652-4053-bdee-83b4114114f7</td>\n      <td>2024-09-25 00</td>\n    </tr>\n    <tr>\n      <th>...</th>\n      <td>...</td>\n      <td>...</td>\n      <td>...</td>\n      <td>...</td>\n      <td>...</td>\n    </tr>\n    <tr>\n      <th>948</th>\n      <td>nhd</td>\n      <td>1.727308e+12</td>\n      <td>20842007</td>\n      <td>f8d2e6d0-4c5f-4ac9-898c-c6d0f3866492</td>\n      <td>2024-09-25 23</td>\n    </tr>\n    <tr>\n      <th>949</th>\n      <td>nhd</td>\n      <td>1.727308e+12</td>\n      <td>20842767</td>\n      <td>cce7367e-273f-449e-88d0-854b48dd5cb0</td>\n      <td>2024-09-25 23</td>\n    </tr>\n    <tr>\n      <th>950</th>\n      <td>nhd</td>\n      <td>1.727308e+12</td>\n      <td>20854784</td>\n      <td>2d7f48e4-5fd4-474c-9335-62dca418ad9f</td>\n      <td>2024-09-25 23</td>\n    </tr>\n    <tr>\n      <th>951</th>\n      <td>nhd</td>\n      <td>1.727306e+12</td>\n      <td>20955919</td>\n      <td>341059c7-d6cd-448f-8d47-05667d13bb88</td>\n      <td>2024-09-25 23</td>\n    </tr>\n    <tr>\n      <th>952</th>\n      <td>nhd</td>\n      <td>1.727308e+12</td>\n      <td>20745049</td>\n      <td>0ec75eee-67aa-41c2-b8bc-6372ac42a232</td>\n      <td>2024-09-25 23</td>\n    </tr>\n  </tbody>\n</table>\n<p>289042 rows × 5 columns</p>\n</div>"
     },
     "execution_count": 10,
     "metadata": {},
     "output_type": "execute_result"
    }
   ],
   "source": [
    "# For Males\n",
    "nhd_pv_males = pageviews_males[pageviews_males['brandcode'] == 'nhd']\n",
    "sw_pv_males = pageviews_males[pageviews_males['brandcode'] == 'sw']\n",
    "\n",
    "# For Females\n",
    "nhd_pv_females = pageviews_females[pageviews_females['brandcode'] == 'nhd']\n",
    "sw_pv_females = pageviews_females[pageviews_females['brandcode'] == 'sw']\n",
    "\n",
    "# For People Younger Than 50\n",
    "nhd_pv_younger_than_50 = pageviews_younger_than_50[pageviews_younger_than_50['brandcode'] == 'nhd']\n",
    "sw_pv_younger_than_50 = pageviews_younger_than_50[pageviews_younger_than_50['brandcode'] == 'sw']\n",
    "\n",
    "# For People Older Than 50\n",
    "nhd_pv_older_than_50 = pageviews_older_than_50[pageviews_older_than_50['brandcode'] == 'nhd']\n",
    "sw_pv_older_than_50 = pageviews_older_than_50[pageviews_older_than_50['brandcode'] == 'sw']\n",
    "\n",
    "# Globally\n",
    "nhd_pv = pageviews[pageviews['brandcode'] == 'nhd']\n",
    "sw_pv = pageviews[pageviews['brandcode'] == 'sw']\n",
    "\n",
    "nhd_pv"
   ],
   "metadata": {
    "collapsed": false,
    "ExecuteTime": {
     "end_time": "2024-11-05T14:30:33.741704Z",
     "start_time": "2024-11-05T14:30:33.572024Z"
    }
   }
  },
  {
   "cell_type": "markdown",
   "source": [
    "## Most trending articles"
   ],
   "metadata": {
    "collapsed": false
   }
  },
  {
   "cell_type": "code",
   "execution_count": 11,
   "outputs": [],
   "source": [
    "def calculate_trend(data, timestamp_col, article_col):\n",
    "    grouped_data = data.groupby([timestamp_col, article_col]).size().reset_index(name='count')\n",
    "    grouped_data = grouped_data.sort_values([article_col, timestamp_col])\n",
    "    grouped_data['previous_count'] = grouped_data.groupby(article_col)['count'].shift(1)\n",
    "    grouped_data['trend'] = ((grouped_data['count'] - grouped_data['previous_count']) / grouped_data['previous_count']) * 100\n",
    "    grouped_data['trend'] = grouped_data['trend'].fillna(0)\n",
    "    return grouped_data\n",
    "\n",
    "def most_trending_per_hour(grouped_data):\n",
    "    max_trend_indices = grouped_data.groupby('timestamp_date_hour')['trend'].idxmax()\n",
    "    max_trend_data = grouped_data.loc[max_trend_indices, ['timestamp_date_hour', 'articleid', 'trend']]\n",
    "    return max_trend_data\n",
    "\n",
    "def n_most_trending(grouped_data, timestamp, n=3):\n",
    "    articles_at_timestamp = grouped_data[grouped_data['timestamp_date_hour'] == timestamp]\n",
    "    top_trending_articles = articles_at_timestamp.sort_values(by='trend', ascending=False).head(n)\n",
    "    return top_trending_articles[['timestamp_date_hour', 'articleid', 'trend']]"
   ],
   "metadata": {
    "collapsed": false,
    "ExecuteTime": {
     "end_time": "2024-11-05T14:30:33.749848Z",
     "start_time": "2024-11-05T14:30:33.749362Z"
    }
   }
  },
  {
   "cell_type": "markdown",
   "source": [
    "## Calculate trends:"
   ],
   "metadata": {
    "collapsed": false
   }
  },
  {
   "cell_type": "code",
   "execution_count": 12,
   "outputs": [
    {
     "data": {
      "text/plain": "      timestamp_date_hour             articleid  count  previous_count  \\\n3982        2024-09-25 09              10002209      1             NaN   \n8220        2024-09-25 14              10002432      1             NaN   \n11592       2024-09-25 18              10002432      1             1.0   \n6514        2024-09-25 12              10477948      1             NaN   \n8221        2024-09-25 14              10477998      1             NaN   \n...                   ...                   ...    ...             ...   \n10002       2024-09-25 15  dmf20240522_46850405      1             7.0   \n10776       2024-09-25 16  dmf20240522_46850405      1             1.0   \n11591       2024-09-25 17  dmf20240522_46850405      5             1.0   \n12513       2024-09-25 18  dmf20240522_46850405      3             5.0   \n13361       2024-09-25 19  dmf20240522_46850405      2             3.0   \n\n            trend  \n3982     0.000000  \n8220     0.000000  \n11592    0.000000  \n6514     0.000000  \n8221     0.000000  \n...           ...  \n10002  -85.714286  \n10776    0.000000  \n11591  400.000000  \n12513  -40.000000  \n13361  -33.333333  \n\n[15451 rows x 5 columns]",
      "text/html": "<div>\n<style scoped>\n    .dataframe tbody tr th:only-of-type {\n        vertical-align: middle;\n    }\n\n    .dataframe tbody tr th {\n        vertical-align: top;\n    }\n\n    .dataframe thead th {\n        text-align: right;\n    }\n</style>\n<table border=\"1\" class=\"dataframe\">\n  <thead>\n    <tr style=\"text-align: right;\">\n      <th></th>\n      <th>timestamp_date_hour</th>\n      <th>articleid</th>\n      <th>count</th>\n      <th>previous_count</th>\n      <th>trend</th>\n    </tr>\n  </thead>\n  <tbody>\n    <tr>\n      <th>3982</th>\n      <td>2024-09-25 09</td>\n      <td>10002209</td>\n      <td>1</td>\n      <td>NaN</td>\n      <td>0.000000</td>\n    </tr>\n    <tr>\n      <th>8220</th>\n      <td>2024-09-25 14</td>\n      <td>10002432</td>\n      <td>1</td>\n      <td>NaN</td>\n      <td>0.000000</td>\n    </tr>\n    <tr>\n      <th>11592</th>\n      <td>2024-09-25 18</td>\n      <td>10002432</td>\n      <td>1</td>\n      <td>1.0</td>\n      <td>0.000000</td>\n    </tr>\n    <tr>\n      <th>6514</th>\n      <td>2024-09-25 12</td>\n      <td>10477948</td>\n      <td>1</td>\n      <td>NaN</td>\n      <td>0.000000</td>\n    </tr>\n    <tr>\n      <th>8221</th>\n      <td>2024-09-25 14</td>\n      <td>10477998</td>\n      <td>1</td>\n      <td>NaN</td>\n      <td>0.000000</td>\n    </tr>\n    <tr>\n      <th>...</th>\n      <td>...</td>\n      <td>...</td>\n      <td>...</td>\n      <td>...</td>\n      <td>...</td>\n    </tr>\n    <tr>\n      <th>10002</th>\n      <td>2024-09-25 15</td>\n      <td>dmf20240522_46850405</td>\n      <td>1</td>\n      <td>7.0</td>\n      <td>-85.714286</td>\n    </tr>\n    <tr>\n      <th>10776</th>\n      <td>2024-09-25 16</td>\n      <td>dmf20240522_46850405</td>\n      <td>1</td>\n      <td>1.0</td>\n      <td>0.000000</td>\n    </tr>\n    <tr>\n      <th>11591</th>\n      <td>2024-09-25 17</td>\n      <td>dmf20240522_46850405</td>\n      <td>5</td>\n      <td>1.0</td>\n      <td>400.000000</td>\n    </tr>\n    <tr>\n      <th>12513</th>\n      <td>2024-09-25 18</td>\n      <td>dmf20240522_46850405</td>\n      <td>3</td>\n      <td>5.0</td>\n      <td>-40.000000</td>\n    </tr>\n    <tr>\n      <th>13361</th>\n      <td>2024-09-25 19</td>\n      <td>dmf20240522_46850405</td>\n      <td>2</td>\n      <td>3.0</td>\n      <td>-33.333333</td>\n    </tr>\n  </tbody>\n</table>\n<p>15451 rows × 5 columns</p>\n</div>"
     },
     "execution_count": 12,
     "metadata": {},
     "output_type": "execute_result"
    }
   ],
   "source": [
    "nhd_pv_males_trend = calculate_trend(nhd_pv_males, 'timestamp_date_hour', 'articleid')\n",
    "sw_pv_males_trend = calculate_trend(sw_pv_males, 'timestamp_date_hour', 'articleid')\n",
    "\n",
    "nhd_pv_females_trend = calculate_trend(nhd_pv_females, 'timestamp_date_hour', 'articleid')\n",
    "sw_pv_females_trend = calculate_trend(sw_pv_females, 'timestamp_date_hour', 'articleid')\n",
    "\n",
    "nhd_pv_younger_than_50_trend = calculate_trend(nhd_pv_younger_than_50, 'timestamp_date_hour', 'articleid')\n",
    "sw_pv_younger_than_50_trend = calculate_trend(sw_pv_younger_than_50, 'timestamp_date_hour', 'articleid')\n",
    "\n",
    "nhd_pv_older_than_50_trend = calculate_trend(nhd_pv_older_than_50, 'timestamp_date_hour', 'articleid')\n",
    "sw_pv_older_than_50_trend = calculate_trend(sw_pv_older_than_50, 'timestamp_date_hour', 'articleid')\n",
    "\n",
    "nhd_pv_trend = calculate_trend(nhd_pv,'timestamp_date_hour','articleid')\n",
    "sw_pv_trend = calculate_trend(sw_pv,'timestamp_date_hour','articleid')\n",
    "nhd_pv_trend"
   ],
   "metadata": {
    "collapsed": false,
    "ExecuteTime": {
     "end_time": "2024-11-05T14:30:33.984820Z",
     "start_time": "2024-11-05T14:30:33.753468Z"
    }
   }
  },
  {
   "cell_type": "markdown",
   "source": [
    "## Calculate most trending:"
   ],
   "metadata": {
    "collapsed": false
   }
  },
  {
   "cell_type": "code",
   "execution_count": 13,
   "outputs": [
    {
     "data": {
      "text/plain": "      timestamp_date_hour articleid         trend\n0           2024-09-25 00  10482775      0.000000\n194         2024-09-25 01  19806164    450.000000\n436         2024-09-25 02  20675049    800.000000\n650         2024-09-25 03  20682508   1300.000000\n889         2024-09-25 04  20427975   1700.000000\n1598        2024-09-25 05  20764750  10083.333333\n2318        2024-09-25 06  20802018   4200.000000\n2618        2024-09-25 07  15812707    600.000000\n3560        2024-09-25 08  20174316    600.000000\n4765        2024-09-25 09  20844945  37100.000000\n5209        2024-09-25 10  20010722   1833.333333\n6420        2024-09-25 11  20816569   1950.000000\n7165        2024-09-25 12  20756165   1350.000000\n8031        2024-09-25 13  20773574   1230.434783\n8782        2024-09-25 14  20588323   1200.000000\n9952        2024-09-25 15  20899344   2000.000000\n10748       2024-09-25 16  20927492   1925.000000\n11537       2024-09-25 17  20905247   6200.000000\n12137       2024-09-25 18  20604486    600.000000\n13269       2024-09-25 19  20862757  15800.000000\n13751       2024-09-25 20  20426702    800.000000\n14429       2024-09-25 21  20609426    500.000000\n14844       2024-09-25 22  20136413    300.000000\n15178       2024-09-25 23  20232865    500.000000\n15401       2024-09-26 00  20767777    500.000000",
      "text/html": "<div>\n<style scoped>\n    .dataframe tbody tr th:only-of-type {\n        vertical-align: middle;\n    }\n\n    .dataframe tbody tr th {\n        vertical-align: top;\n    }\n\n    .dataframe thead th {\n        text-align: right;\n    }\n</style>\n<table border=\"1\" class=\"dataframe\">\n  <thead>\n    <tr style=\"text-align: right;\">\n      <th></th>\n      <th>timestamp_date_hour</th>\n      <th>articleid</th>\n      <th>trend</th>\n    </tr>\n  </thead>\n  <tbody>\n    <tr>\n      <th>0</th>\n      <td>2024-09-25 00</td>\n      <td>10482775</td>\n      <td>0.000000</td>\n    </tr>\n    <tr>\n      <th>194</th>\n      <td>2024-09-25 01</td>\n      <td>19806164</td>\n      <td>450.000000</td>\n    </tr>\n    <tr>\n      <th>436</th>\n      <td>2024-09-25 02</td>\n      <td>20675049</td>\n      <td>800.000000</td>\n    </tr>\n    <tr>\n      <th>650</th>\n      <td>2024-09-25 03</td>\n      <td>20682508</td>\n      <td>1300.000000</td>\n    </tr>\n    <tr>\n      <th>889</th>\n      <td>2024-09-25 04</td>\n      <td>20427975</td>\n      <td>1700.000000</td>\n    </tr>\n    <tr>\n      <th>1598</th>\n      <td>2024-09-25 05</td>\n      <td>20764750</td>\n      <td>10083.333333</td>\n    </tr>\n    <tr>\n      <th>2318</th>\n      <td>2024-09-25 06</td>\n      <td>20802018</td>\n      <td>4200.000000</td>\n    </tr>\n    <tr>\n      <th>2618</th>\n      <td>2024-09-25 07</td>\n      <td>15812707</td>\n      <td>600.000000</td>\n    </tr>\n    <tr>\n      <th>3560</th>\n      <td>2024-09-25 08</td>\n      <td>20174316</td>\n      <td>600.000000</td>\n    </tr>\n    <tr>\n      <th>4765</th>\n      <td>2024-09-25 09</td>\n      <td>20844945</td>\n      <td>37100.000000</td>\n    </tr>\n    <tr>\n      <th>5209</th>\n      <td>2024-09-25 10</td>\n      <td>20010722</td>\n      <td>1833.333333</td>\n    </tr>\n    <tr>\n      <th>6420</th>\n      <td>2024-09-25 11</td>\n      <td>20816569</td>\n      <td>1950.000000</td>\n    </tr>\n    <tr>\n      <th>7165</th>\n      <td>2024-09-25 12</td>\n      <td>20756165</td>\n      <td>1350.000000</td>\n    </tr>\n    <tr>\n      <th>8031</th>\n      <td>2024-09-25 13</td>\n      <td>20773574</td>\n      <td>1230.434783</td>\n    </tr>\n    <tr>\n      <th>8782</th>\n      <td>2024-09-25 14</td>\n      <td>20588323</td>\n      <td>1200.000000</td>\n    </tr>\n    <tr>\n      <th>9952</th>\n      <td>2024-09-25 15</td>\n      <td>20899344</td>\n      <td>2000.000000</td>\n    </tr>\n    <tr>\n      <th>10748</th>\n      <td>2024-09-25 16</td>\n      <td>20927492</td>\n      <td>1925.000000</td>\n    </tr>\n    <tr>\n      <th>11537</th>\n      <td>2024-09-25 17</td>\n      <td>20905247</td>\n      <td>6200.000000</td>\n    </tr>\n    <tr>\n      <th>12137</th>\n      <td>2024-09-25 18</td>\n      <td>20604486</td>\n      <td>600.000000</td>\n    </tr>\n    <tr>\n      <th>13269</th>\n      <td>2024-09-25 19</td>\n      <td>20862757</td>\n      <td>15800.000000</td>\n    </tr>\n    <tr>\n      <th>13751</th>\n      <td>2024-09-25 20</td>\n      <td>20426702</td>\n      <td>800.000000</td>\n    </tr>\n    <tr>\n      <th>14429</th>\n      <td>2024-09-25 21</td>\n      <td>20609426</td>\n      <td>500.000000</td>\n    </tr>\n    <tr>\n      <th>14844</th>\n      <td>2024-09-25 22</td>\n      <td>20136413</td>\n      <td>300.000000</td>\n    </tr>\n    <tr>\n      <th>15178</th>\n      <td>2024-09-25 23</td>\n      <td>20232865</td>\n      <td>500.000000</td>\n    </tr>\n    <tr>\n      <th>15401</th>\n      <td>2024-09-26 00</td>\n      <td>20767777</td>\n      <td>500.000000</td>\n    </tr>\n  </tbody>\n</table>\n</div>"
     },
     "execution_count": 13,
     "metadata": {},
     "output_type": "execute_result"
    }
   ],
   "source": [
    "most_trending_nhd_pv_males = most_trending_per_hour(nhd_pv_males_trend)\n",
    "most_trending_sw_pv_males = most_trending_per_hour(sw_pv_males_trend)\n",
    "\n",
    "most_trending_nhd_pv_females = most_trending_per_hour(nhd_pv_females_trend)\n",
    "most_trending_sw_pv_females = most_trending_per_hour(sw_pv_females_trend)\n",
    "\n",
    "most_trending_nhd_pv_younger_than_50 = most_trending_per_hour(nhd_pv_younger_than_50_trend)\n",
    "most_trending_sw_pv_younger_than_50 = most_trending_per_hour(sw_pv_younger_than_50_trend)\n",
    "\n",
    "most_trending_nhd_pv_older_than_50 = most_trending_per_hour(nhd_pv_older_than_50_trend)\n",
    "most_trending_sw_pv_older_than_50 = most_trending_per_hour(sw_pv_older_than_50_trend)\n",
    "\n",
    "most_trending_nhd_pv = most_trending_per_hour(nhd_pv_trend)\n",
    "most_trending_sw_pv = most_trending_per_hour(sw_pv_trend)\n",
    "\n",
    "most_trending_nhd_pv"
   ],
   "metadata": {
    "collapsed": false,
    "ExecuteTime": {
     "end_time": "2024-11-05T14:30:34.056880Z",
     "start_time": "2024-11-05T14:30:33.982962Z"
    }
   }
  },
  {
   "cell_type": "markdown",
   "source": [
    "### Calulcate top 3 between 12h and 13h"
   ],
   "metadata": {
    "collapsed": false
   }
  },
  {
   "cell_type": "code",
   "execution_count": 14,
   "outputs": [
    {
     "data": {
      "text/plain": "     timestamp_date_hour articleid        trend\n7165       2024-09-25 12  20756165  1350.000000\n7012       2024-09-25 12  20584608   541.641337\n7136       2024-09-25 12  20734719   500.000000",
      "text/html": "<div>\n<style scoped>\n    .dataframe tbody tr th:only-of-type {\n        vertical-align: middle;\n    }\n\n    .dataframe tbody tr th {\n        vertical-align: top;\n    }\n\n    .dataframe thead th {\n        text-align: right;\n    }\n</style>\n<table border=\"1\" class=\"dataframe\">\n  <thead>\n    <tr style=\"text-align: right;\">\n      <th></th>\n      <th>timestamp_date_hour</th>\n      <th>articleid</th>\n      <th>trend</th>\n    </tr>\n  </thead>\n  <tbody>\n    <tr>\n      <th>7165</th>\n      <td>2024-09-25 12</td>\n      <td>20756165</td>\n      <td>1350.000000</td>\n    </tr>\n    <tr>\n      <th>7012</th>\n      <td>2024-09-25 12</td>\n      <td>20584608</td>\n      <td>541.641337</td>\n    </tr>\n    <tr>\n      <th>7136</th>\n      <td>2024-09-25 12</td>\n      <td>20734719</td>\n      <td>500.000000</td>\n    </tr>\n  </tbody>\n</table>\n</div>"
     },
     "execution_count": 14,
     "metadata": {},
     "output_type": "execute_result"
    }
   ],
   "source": [
    "top_3_trending_12_13_nhd_pv_males = n_most_trending(nhd_pv_males_trend, \"2024-09-25 12\", n=3)\n",
    "top_3_trending_12_13_sw_pv_males = n_most_trending(sw_pv_males_trend, \"2024-09-25 12\", n=3)\n",
    "\n",
    "top_3_trending_12_13_nhd_pv_females = n_most_trending(nhd_pv_females_trend, \"2024-09-25 12\", n=3)\n",
    "top_3_trending_12_13_sw_pv_females = n_most_trending(sw_pv_females_trend, \"2024-09-25 12\", n=3)\n",
    "\n",
    "top_3_trending_12_13_nhd_pv_younger_than_50 = n_most_trending(nhd_pv_younger_than_50_trend, \"2024-09-25 12\", n=3)\n",
    "top_3_trending_12_13_sw_pv_younger_than_50 = n_most_trending(sw_pv_younger_than_50_trend, \"2024-09-25 12\", n=3)\n",
    "\n",
    "top_3_trending_12_13_nhd_pv_older_than_50 = n_most_trending(nhd_pv_older_than_50_trend, \"2024-09-25 12\", n=3)\n",
    "top_3_trending_12_13_sw_pv_older_than_50 = n_most_trending(sw_pv_older_than_50_trend, \"2024-09-25 12\", n=3)\n",
    "\n",
    "top_3_trending_12_13_nhd_pv = n_most_trending(nhd_pv_trend, \"2024-09-25 12\", n=3)\n",
    "top_3_trending_12_13_sw_pv = n_most_trending(sw_pv_trend, \"2024-09-25 12\", n=3)\n",
    "\n",
    "top_3_trending_12_13_nhd_pv"
   ],
   "metadata": {
    "collapsed": false,
    "ExecuteTime": {
     "end_time": "2024-11-05T14:30:34.057031Z",
     "start_time": "2024-11-05T14:30:34.053607Z"
    }
   }
  },
  {
   "cell_type": "markdown",
   "source": [
    "### Printing out the info:"
   ],
   "metadata": {
    "collapsed": false
   }
  },
  {
   "cell_type": "code",
   "execution_count": 15,
   "outputs": [
    {
     "name": "stdout",
     "output_type": "stream",
     "text": [
      "\n",
      "========== NHD ==========\n",
      "\n",
      "--- Males ---\n",
      "Most trending articles per hour:\n",
      "     timestamp_date_hour articleid         trend\n",
      "0          2024-09-25 00  10482775      0.000000\n",
      "143        2024-09-25 01  20727884    400.000000\n",
      "235        2024-09-25 02  20727005    400.000000\n",
      "333        2024-09-25 03  20677679    800.000000\n",
      "626        2024-09-25 04  20820236   1200.000000\n",
      "865        2024-09-25 05  20764750   6437.500000\n",
      "1234       2024-09-25 06  20802018   4000.000000\n",
      "1532       2024-09-25 07  20727377    900.000000\n",
      "1836       2024-09-25 08  20477680    500.000000\n",
      "2430       2024-09-25 09  20844945  10900.000000\n",
      "2588       2024-09-25 10  20010722   1900.000000\n",
      "3239       2024-09-25 11  20816569   2900.000000\n",
      "3570       2024-09-25 12  20756165   1150.000000\n",
      "3981       2024-09-25 13  20773574    982.352941\n",
      "4504       2024-09-25 14  20895367   1217.948718\n",
      "4755       2024-09-25 15  20678136   1100.000000\n",
      "5228       2024-09-25 16  20756250    964.864865\n",
      "5775       2024-09-25 17  20905247   2400.000000\n",
      "5967       2024-09-25 18  20499756    600.000000\n",
      "6551       2024-09-25 19  20878477   1000.000000\n",
      "6715       2024-09-25 20  20426702    600.000000\n",
      "7088       2024-09-25 21  20677809    700.000000\n",
      "7323       2024-09-25 22  20681891    200.000000\n",
      "7528       2024-09-25 23  20801336    300.000000\n",
      "7585       2024-09-26 00  20767777    100.000000\n",
      "\n",
      "Top 3 trending articles between 12 and 13:\n",
      "     timestamp_date_hour articleid        trend\n",
      "3570       2024-09-25 12  20756165  1150.000000\n",
      "3503       2024-09-25 12  20665636   600.000000\n",
      "3482       2024-09-25 12  20584608   545.238095\n",
      "\n",
      "==================================================\n",
      "\n",
      "--- Females ---\n",
      "Most trending articles per hour:\n",
      "     timestamp_date_hour articleid        trend\n",
      "0          2024-09-25 00  11248623     0.000000\n",
      "131        2024-09-25 01  20727884   200.000000\n",
      "181        2024-09-25 02  20505809   400.000000\n",
      "383        2024-09-25 03  20822876  1000.000000\n",
      "427        2024-09-25 04  20232865  1300.000000\n",
      "844        2024-09-25 05  20764750  8416.666667\n",
      "1229       2024-09-25 06  20802018  2700.000000\n",
      "1588       2024-09-25 07  20774741   500.000000\n",
      "1935       2024-09-25 08  20734719   700.000000\n",
      "2308       2024-09-25 09  20718284  2600.000000\n",
      "2581       2024-09-25 10  20010722  1500.000000\n",
      "3210       2024-09-25 11  20816569  2050.000000\n",
      "3407       2024-09-25 12  20584608   640.229885\n",
      "3899       2024-09-25 13  20773574  1000.000000\n",
      "4357       2024-09-25 14  20791935  1300.000000\n",
      "4544       2024-09-25 15  13203226   500.000000\n",
      "5126       2024-09-25 16  20756250  1246.428571\n",
      "5305       2024-09-25 17  11426711  1500.000000\n",
      "6049       2024-09-25 18  20828590   600.000000\n",
      "6523       2024-09-25 19  20862757  4500.000000\n",
      "6901       2024-09-25 20  20868660   850.000000\n",
      "7202       2024-09-25 21  20952459   566.666667\n",
      "7282       2024-09-25 22  20727900   200.000000\n",
      "7484       2024-09-25 23  20868660   200.000000\n",
      "7512       2024-09-26 00  20685939    66.666667\n",
      "\n",
      "Top 3 trending articles between 12 and 13:\n",
      "     timestamp_date_hour articleid       trend\n",
      "3407       2024-09-25 12  20584608  640.229885\n",
      "3387       2024-09-25 12  20497683  600.000000\n",
      "3602       2024-09-25 12  20860463  540.000000\n",
      "\n",
      "==================================================\n",
      "\n",
      "--- Younger than 50 ---\n",
      "Most trending articles per hour:\n",
      "     timestamp_date_hour articleid        trend\n",
      "0          2024-09-25 00  10482775     0.000000\n",
      "140        2024-09-25 01  20613273   300.000000\n",
      "247        2024-09-25 02  20727005   400.000000\n",
      "388        2024-09-25 03  20756051   600.000000\n",
      "466        2024-09-25 04  19806164   800.000000\n",
      "875        2024-09-25 05  20764750  6575.000000\n",
      "1008       2024-09-25 06  14359621   700.000000\n",
      "1489       2024-09-25 07  20588072   700.000000\n",
      "1988       2024-09-25 08  20734719  1800.000000\n",
      "2481       2024-09-25 09  20842007   575.000000\n",
      "2823       2024-09-25 10  20739488  1500.000000\n",
      "3330       2024-09-25 11  20816569  2250.000000\n",
      "3557       2024-09-25 12  20584608   629.885057\n",
      "4068       2024-09-25 13  20773574   900.000000\n",
      "4619       2024-09-25 14  20895367  1033.333333\n",
      "4907       2024-09-25 15  20724816   800.000000\n",
      "5367       2024-09-25 16  20756250  1078.787879\n",
      "5561       2024-09-25 17  11426711  1600.000000\n",
      "6212       2024-09-25 18  20675049   600.000000\n",
      "6802       2024-09-25 19  20862757  3900.000000\n",
      "6985       2024-09-25 20  20426702   600.000000\n",
      "7382       2024-09-25 21  20741239   300.000000\n",
      "7574       2024-09-25 22  19737039   200.000000\n",
      "7759       2024-09-25 23  20364887   100.000000\n",
      "7874       2024-09-26 00  20578092   100.000000\n",
      "\n",
      "Top 3 trending articles between 12 and 13:\n",
      "     timestamp_date_hour articleid       trend\n",
      "3557       2024-09-25 12  20584608  629.885057\n",
      "3712       2024-09-25 12  20804812  400.000000\n",
      "3664       2024-09-25 12  20758384  400.000000\n",
      "\n",
      "==================================================\n",
      "\n",
      "--- Older than 50 ---\n",
      "Most trending articles per hour:\n",
      "     timestamp_date_hour articleid         trend\n",
      "0          2024-09-25 00  11185721      0.000000\n",
      "164        2024-09-25 01  20806020    600.000000\n",
      "255        2024-09-25 02  20762798    400.000000\n",
      "383        2024-09-25 03  20773796   1000.000000\n",
      "452        2024-09-25 04  20232865   1150.000000\n",
      "870        2024-09-25 05  20764750   9216.666667\n",
      "1073       2024-09-25 06  20514192   1600.000000\n",
      "1561       2024-09-25 07  20734719    500.000000\n",
      "2058       2024-09-25 08  20802594    500.000000\n",
      "2503       2024-09-25 09  20844945  11400.000000\n",
      "2644       2024-09-25 10  20010722   1050.000000\n",
      "3271       2024-09-25 11  20816569   3100.000000\n",
      "3594       2024-09-25 12  20756165   1400.000000\n",
      "4022       2024-09-25 13  20773574   1207.142857\n",
      "4571       2024-09-25 14  20895367   1563.636364\n",
      "4737       2024-09-25 15  20012047    700.000000\n",
      "5394       2024-09-25 16  20852660   1950.000000\n",
      "5833       2024-09-25 17  20905247   1900.000000\n",
      "6221       2024-09-25 18  20828590    700.000000\n",
      "6705       2024-09-25 19  20940560    800.000000\n",
      "7071       2024-09-25 20  20898075    700.000000\n",
      "7210       2024-09-25 21  20514564    600.000000\n",
      "7447       2024-09-25 22  20497683    200.000000\n",
      "7616       2024-09-25 23  20578092    600.000000\n",
      "7709       2024-09-26 00  20685939     80.000000\n",
      "\n",
      "Top 3 trending articles between 12 and 13:\n",
      "     timestamp_date_hour articleid        trend\n",
      "3594       2024-09-25 12  20756165  1400.000000\n",
      "3509       2024-09-25 12  20584608   556.989247\n",
      "3514       2024-09-25 12  20594470   450.000000\n",
      "\n",
      "==================================================\n",
      "\n",
      "--- Global ---\n",
      "Most trending articles per hour:\n",
      "      timestamp_date_hour articleid         trend\n",
      "0           2024-09-25 00  10482775      0.000000\n",
      "194         2024-09-25 01  19806164    450.000000\n",
      "436         2024-09-25 02  20675049    800.000000\n",
      "650         2024-09-25 03  20682508   1300.000000\n",
      "889         2024-09-25 04  20427975   1700.000000\n",
      "1598        2024-09-25 05  20764750  10083.333333\n",
      "2318        2024-09-25 06  20802018   4200.000000\n",
      "2618        2024-09-25 07  15812707    600.000000\n",
      "3560        2024-09-25 08  20174316    600.000000\n",
      "4765        2024-09-25 09  20844945  37100.000000\n",
      "5209        2024-09-25 10  20010722   1833.333333\n",
      "6420        2024-09-25 11  20816569   1950.000000\n",
      "7165        2024-09-25 12  20756165   1350.000000\n",
      "8031        2024-09-25 13  20773574   1230.434783\n",
      "8782        2024-09-25 14  20588323   1200.000000\n",
      "9952        2024-09-25 15  20899344   2000.000000\n",
      "10748       2024-09-25 16  20927492   1925.000000\n",
      "11537       2024-09-25 17  20905247   6200.000000\n",
      "12137       2024-09-25 18  20604486    600.000000\n",
      "13269       2024-09-25 19  20862757  15800.000000\n",
      "13751       2024-09-25 20  20426702    800.000000\n",
      "14429       2024-09-25 21  20609426    500.000000\n",
      "14844       2024-09-25 22  20136413    300.000000\n",
      "15178       2024-09-25 23  20232865    500.000000\n",
      "15401       2024-09-26 00  20767777    500.000000\n",
      "\n",
      "Top 3 trending articles between 12 and 13:\n",
      "     timestamp_date_hour articleid        trend\n",
      "7165       2024-09-25 12  20756165  1350.000000\n",
      "7012       2024-09-25 12  20584608   541.641337\n",
      "7136       2024-09-25 12  20734719   500.000000\n",
      "\n",
      "==================================================\n",
      "\n",
      "\n",
      "========== SW ==========\n",
      "\n",
      "--- Males ---\n",
      "Most trending articles per hour:\n",
      "     timestamp_date_hour    articleid         trend\n",
      "0          2024-09-25 00   1203340522      0.000000\n",
      "198        2024-09-25 01     41244638    300.000000\n",
      "535        2024-09-25 02   a659695930    300.000000\n",
      "651        2024-09-25 03   a194086067    500.000000\n",
      "782        2024-09-25 04  a1588846459    500.000000\n",
      "910        2024-09-25 05  a1306969954    700.000000\n",
      "1071       2024-09-25 06  a1001587316   3947.619048\n",
      "1358       2024-09-25 07  a1353033869    400.000000\n",
      "1854       2024-09-25 08   a981929899   2266.666667\n",
      "1938       2024-09-25 09  a1091031912   1075.000000\n",
      "2413       2024-09-25 10  a1955316831    800.000000\n",
      "2764       2024-09-25 11  a1871307966    653.846154\n",
      "3301       2024-09-25 12   a926865778    900.000000\n",
      "3516       2024-09-25 13  a2044183520   1100.000000\n",
      "4012       2024-09-25 14   a754500819  12450.000000\n",
      "4378       2024-09-25 15   a626574968   1125.000000\n",
      "4695       2024-09-25 16   a307413284   1535.000000\n",
      "4999       2024-09-25 17  a1771291222    806.666667\n",
      "5397       2024-09-25 18  a1729003580   7300.000000\n",
      "5757       2024-09-25 19  a1481123319   5900.000000\n",
      "6336       2024-09-25 20   a352774181   6866.666667\n",
      "6720       2024-09-25 21  a1901395828    600.000000\n",
      "7124       2024-09-25 22  a1939906599    500.000000\n",
      "7533       2024-09-25 23   a509459291   1100.000000\n",
      "7627       2024-09-26 00  a1855690026    200.000000\n",
      "\n",
      "Top 3 trending articles between 12 and 13:\n",
      "     timestamp_date_hour    articleid  trend\n",
      "3301       2024-09-25 12   a926865778  900.0\n",
      "3171       2024-09-25 12  a1998029667  800.0\n",
      "3025       2024-09-25 12  a1193872604  800.0\n",
      "\n",
      "==================================================\n",
      "\n",
      "--- Females ---\n",
      "Most trending articles per hour:\n",
      "     timestamp_date_hour    articleid         trend\n",
      "0          2024-09-25 00   1051889419      0.000000\n",
      "166        2024-09-25 01   a102359136    100.000000\n",
      "336        2024-09-25 02  a1092648263    800.000000\n",
      "563        2024-09-25 03   a396197070    300.000000\n",
      "697        2024-09-25 04  a2092657122    350.000000\n",
      "827        2024-09-25 05   a149740916    550.000000\n",
      "963        2024-09-25 06  a1001587316   3081.481481\n",
      "1436       2024-09-25 07   a981929899    700.000000\n",
      "1704       2024-09-25 08   a527352587   1900.000000\n",
      "1834       2024-09-25 09  a1091031912   1900.000000\n",
      "2346       2024-09-25 10   a307413284   1114.285714\n",
      "2634       2024-09-25 11  a1674991750    500.000000\n",
      "3061       2024-09-25 12  a2124350737    800.000000\n",
      "3416       2024-09-25 13  a2044183520   4100.000000\n",
      "3688       2024-09-25 14  a1273833301   1080.000000\n",
      "4338       2024-09-25 15   a626574968   1007.407407\n",
      "4682       2024-09-25 16   a307413284   1584.210526\n",
      "4995       2024-09-25 17  a1771291222    963.636364\n",
      "5372       2024-09-25 18  a1729003580  25750.000000\n",
      "5764       2024-09-25 19  a1481123319   3000.000000\n",
      "6386       2024-09-25 20   a352774181  11450.000000\n",
      "6651       2024-09-25 21  a1301681558   1200.000000\n",
      "7030       2024-09-25 22  a1023237868    300.000000\n",
      "7405       2024-09-25 23  a1064998416    500.000000\n",
      "7728       2024-09-26 00   a608574571    200.000000\n",
      "\n",
      "Top 3 trending articles between 12 and 13:\n",
      "     timestamp_date_hour    articleid  trend\n",
      "3061       2024-09-25 12  a2124350737  800.0\n",
      "3065       2024-09-25 12  a2135526619  450.0\n",
      "3105       2024-09-25 12   a401203746  400.0\n",
      "\n",
      "==================================================\n",
      "\n",
      "--- Younger than 50 ---\n",
      "Most trending articles per hour:\n",
      "     timestamp_date_hour    articleid         trend\n",
      "0          2024-09-25 00   1153615193      0.000000\n",
      "220        2024-09-25 01  a1066573877    200.000000\n",
      "440        2024-09-25 02  a1405423139    800.000000\n",
      "611        2024-09-25 03   a149740916    700.000000\n",
      "788        2024-09-25 04  a1674991750    400.000000\n",
      "1006       2024-09-25 05   a333414059    450.000000\n",
      "1227       2024-09-25 06  a2135526619   3700.000000\n",
      "1394       2024-09-25 07  a1346282607    600.000000\n",
      "1896       2024-09-25 08   a981929899   3300.000000\n",
      "1976       2024-09-25 09  a1091031912   1233.333333\n",
      "2525       2024-09-25 10   a307413284   1128.571429\n",
      "2983       2024-09-25 11   a679940156    500.000000\n",
      "3112       2024-09-25 12  a1066573877    550.000000\n",
      "3644       2024-09-25 13  a2044183520   1900.000000\n",
      "3917       2024-09-25 14  a1273833301   1080.000000\n",
      "4562       2024-09-25 15   a626574968   1291.304348\n",
      "4909       2024-09-25 16   a307413284   1542.857143\n",
      "5217       2024-09-25 17  a1771291222    843.750000\n",
      "5619       2024-09-25 18  a1729003580  18533.333333\n",
      "6177       2024-09-25 19   a622460196   4500.000000\n",
      "6612       2024-09-25 20   a352774181  21400.000000\n",
      "6909       2024-09-25 21  a1301681558    450.000000\n",
      "7310       2024-09-25 22    475061070    300.000000\n",
      "7899       2024-09-25 23   a509459291   1100.000000\n",
      "7989       2024-09-26 00  a1321149176    100.000000\n",
      "\n",
      "Top 3 trending articles between 12 and 13:\n",
      "     timestamp_date_hour    articleid  trend\n",
      "3112       2024-09-25 12  a1066573877  550.0\n",
      "3346       2024-09-25 12   a527352587  400.0\n",
      "3331       2024-09-25 12   a401203746  350.0\n",
      "\n",
      "==================================================\n",
      "\n",
      "--- Older than 50 ---\n",
      "Most trending articles per hour:\n",
      "     timestamp_date_hour    articleid         trend\n",
      "0          2024-09-25 00   1051889419      0.000000\n",
      "208        2024-09-25 01  a1359524837    300.000000\n",
      "345        2024-09-25 02  a1023237868    400.000000\n",
      "525        2024-09-25 03  a1066573877    300.000000\n",
      "675        2024-09-25 04  a1075076497    500.000000\n",
      "932        2024-09-25 05   a343213321    400.000000\n",
      "1003       2024-09-25 06  a1001587316   3106.896552\n",
      "1281       2024-09-25 07  a1193872604    500.000000\n",
      "1776       2024-09-25 08   a527352587   2500.000000\n",
      "1923       2024-09-25 09  a1091031912   1533.333333\n",
      "2469       2024-09-25 10   a376848384    700.000000\n",
      "2777       2024-09-25 11  a1871307966    758.333333\n",
      "3049       2024-09-25 12  a1193872604    900.000000\n",
      "3551       2024-09-25 13  a2044183520   1666.666667\n",
      "4068       2024-09-25 14   a754500819  12800.000000\n",
      "4448       2024-09-25 15   a626574968    800.000000\n",
      "4788       2024-09-25 16   a307413284   1500.000000\n",
      "5114       2024-09-25 17  a1771291222   1009.090909\n",
      "5509       2024-09-25 18  a1729003580   7257.142857\n",
      "5914       2024-09-25 19  a1481123319   5600.000000\n",
      "6529       2024-09-25 20   a352774181  24900.000000\n",
      "6800       2024-09-25 21  a1301681558    900.000000\n",
      "7272       2024-09-25 22  a1409052368    300.000000\n",
      "7575       2024-09-25 23  a1064998416    700.000000\n",
      "7874       2024-09-26 00  a2011559685    200.000000\n",
      "\n",
      "Top 3 trending articles between 12 and 13:\n",
      "     timestamp_date_hour    articleid  trend\n",
      "3191       2024-09-25 12  a1998029667  900.0\n",
      "3049       2024-09-25 12  a1193872604  900.0\n",
      "3210       2024-09-25 12  a2124350737  900.0\n",
      "\n",
      "==================================================\n",
      "\n",
      "--- Global ---\n",
      "Most trending articles per hour:\n",
      "      timestamp_date_hour    articleid         trend\n",
      "0           2024-09-25 00   1051889419      0.000000\n",
      "453         2024-09-25 01     41244638    500.000000\n",
      "1017        2024-09-25 02  a1973238226    400.000000\n",
      "1269        2024-09-25 03  a1381996057    600.000000\n",
      "1651        2024-09-25 04   a162307218    300.000000\n",
      "1960        2024-09-25 05  a1306969954   1300.000000\n",
      "2561        2024-09-25 06  a2135526619   6700.000000\n",
      "2890        2024-09-25 07   a117538889    400.000000\n",
      "4028        2024-09-25 08   a981929899    959.090909\n",
      "4242        2024-09-25 09  a1091031912   1281.818182\n",
      "5422        2024-09-25 10   a307413284    763.636364\n",
      "6058        2024-09-25 11  a1502952156   1200.000000\n",
      "7319        2024-09-25 12   a706691965   1450.000000\n",
      "7967        2024-09-25 13  a2044183520   2042.857143\n",
      "9083        2024-09-25 14   a754500819  30633.333333\n",
      "9979        2024-09-25 15    a71286407   1100.000000\n",
      "10703       2024-09-25 16   a307413284   1102.127660\n",
      "11421       2024-09-25 17  a1771291222   1036.842105\n",
      "12322       2024-09-25 18  a1729003580   9583.333333\n",
      "13599       2024-09-25 19   a622460196   5275.000000\n",
      "14564       2024-09-25 20   a352774181  15360.000000\n",
      "15648       2024-09-25 21   a278214454    700.000000\n",
      "16356       2024-09-25 22  a1549685398    400.000000\n",
      "17010       2024-09-25 23  a1064998416    550.000000\n",
      "17548       2024-09-26 00     40272285    100.000000\n",
      "\n",
      "Top 3 trending articles between 12 and 13:\n",
      "     timestamp_date_hour    articleid   trend\n",
      "7319       2024-09-25 12   a706691965  1450.0\n",
      "6575       2024-09-25 12    306726484   700.0\n",
      "6921       2024-09-25 12  a1471152969   700.0\n",
      "\n",
      "==================================================\n",
      "\n"
     ]
    }
   ],
   "source": [
    "# Separate dictionaries for NHD and SW\n",
    "nhd_dataframes = {\n",
    "    \"Males\": nhd_pv_males_trend,\n",
    "    \"Females\": nhd_pv_females_trend,\n",
    "    \"Younger than 50\": nhd_pv_younger_than_50_trend,\n",
    "    \"Older than 50\": nhd_pv_older_than_50_trend,\n",
    "    \"Global\": nhd_pv_trend\n",
    "}\n",
    "\n",
    "sw_dataframes = {\n",
    "    \"Males\": sw_pv_males_trend,\n",
    "    \"Females\": sw_pv_females_trend,\n",
    "    \"Younger than 50\": sw_pv_younger_than_50_trend,\n",
    "    \"Older than 50\": sw_pv_older_than_50_trend,\n",
    "    \"Global\": sw_pv_trend\n",
    "}\n",
    "\n",
    "# Loop for NHD dataframes\n",
    "print(\"\\n========== NHD ==========\\n\")\n",
    "for label, df in nhd_dataframes.items():\n",
    "    # Get the most trending articles per hour\n",
    "    most_trending = most_trending_per_hour(df)\n",
    "    # Get the top 3 trending articles between 12 and 13\n",
    "    top_3_trending = n_most_trending(df, \"2024-09-25 12\", n=3)\n",
    "\n",
    "    # Print the information\n",
    "    print(f\"--- {label} ---\")\n",
    "    print(\"Most trending articles per hour:\")\n",
    "    print(most_trending)\n",
    "    print(\"\\nTop 3 trending articles between 12 and 13:\")\n",
    "    print(top_3_trending)\n",
    "    print(\"\\n\" + \"=\"*50 + \"\\n\")\n",
    "\n",
    "# Loop for SW dataframes\n",
    "print(\"\\n========== SW ==========\\n\")\n",
    "for label, df in sw_dataframes.items():\n",
    "    # Get the most trending articles per hour\n",
    "    most_trending = most_trending_per_hour(df)\n",
    "    # Get the top 3 trending articles between 12 and 13\n",
    "    top_3_trending = n_most_trending(df, \"2024-09-25 12\", n=3)\n",
    "\n",
    "    # Print the information\n",
    "    print(f\"--- {label} ---\")\n",
    "    print(\"Most trending articles per hour:\")\n",
    "    print(most_trending)\n",
    "    print(\"\\nTop 3 trending articles between 12 and 13:\")\n",
    "    print(top_3_trending)\n",
    "    print(\"\\n\" + \"=\"*50 + \"\\n\")\n"
   ],
   "metadata": {
    "collapsed": false,
    "ExecuteTime": {
     "end_time": "2024-11-05T14:30:34.095240Z",
     "start_time": "2024-11-05T14:30:34.053789Z"
    }
   }
  },
  {
   "cell_type": "code",
   "execution_count": 15,
   "outputs": [],
   "source": [],
   "metadata": {
    "collapsed": false,
    "ExecuteTime": {
     "end_time": "2024-11-05T14:30:34.115094Z",
     "start_time": "2024-11-05T14:30:34.082118Z"
    }
   }
  }
 ],
 "metadata": {
  "kernelspec": {
   "display_name": "Python 3 (ipykernel)",
   "language": "python",
   "name": "python3"
  },
  "language_info": {
   "codemirror_mode": {
    "name": "ipython",
    "version": 3
   },
   "file_extension": ".py",
   "mimetype": "text/x-python",
   "name": "python",
   "nbconvert_exporter": "python",
   "pygments_lexer": "ipython3",
   "version": "3.10.14"
  }
 },
 "nbformat": 4,
 "nbformat_minor": 5
}
